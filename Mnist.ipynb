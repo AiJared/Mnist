{
 "cells": [
  {
   "cell_type": "code",
   "execution_count": 1,
   "id": "66467fc8",
   "metadata": {},
   "outputs": [
    {
     "name": "stderr",
     "output_type": "stream",
     "text": [
      "C:\\Users\\ojare\\anaconda3\\envs\\tensorflow\\lib\\site-packages\\tqdm\\auto.py:21: TqdmWarning: IProgress not found. Please update jupyter and ipywidgets. See https://ipywidgets.readthedocs.io/en/stable/user_install.html\n",
      "  from .autonotebook import tqdm as notebook_tqdm\n"
     ]
    }
   ],
   "source": [
    "import matplotlib.pyplot as plt\n",
    "import numpy as np\n",
    "import pandas as pd\n",
    "import tensorflow as tf\n",
    "import tensorflow_datasets as tfds\n",
    "\n",
    "from tensorflow import keras\n",
    "from tensorflow.keras import layers\n",
    "from tensorflow.keras.models import Sequential"
   ]
  },
  {
   "cell_type": "markdown",
   "id": "667d1e76",
   "metadata": {},
   "source": [
    "#### Create your input pipeline"
   ]
  },
  {
   "cell_type": "code",
   "execution_count": 6,
   "id": "0f06129b",
   "metadata": {},
   "outputs": [],
   "source": [
    "# load dataset\n",
    "(ds_train, ds_test), ds_info = tfds.load(\n",
    "    'mnist',\n",
    "    split=['train', 'test'],\n",
    "    shuffle_files=True,\n",
    "    as_supervised=True,\n",
    "    with_info=True\n",
    ")"
   ]
  },
  {
   "cell_type": "code",
   "execution_count": 7,
   "id": "88ee7c94",
   "metadata": {},
   "outputs": [],
   "source": [
    "# build a trainable pipeline\n",
    "def normalize_img(image, label):\n",
    "    \"\"\"Normalizes images: 'uint8' -> 'float32.'\"\"\"\n",
    "    return tf.cast(image, tf.float32) / 255., label\n",
    "\n",
    "ds_train = ds_train.map(\n",
    "    normalize_img, num_parallel_calls=tf.data.AUTOTUNE\n",
    ")\n",
    "ds_train = ds_train.cache()\n",
    "ds_train = ds_train.shuffle(ds_info.splits['train'].num_examples)\n",
    "ds_train = ds_train.batch(128)\n",
    "ds_train = ds_train.prefetch(tf.data.AUTOTUNE)"
   ]
  },
  {
   "cell_type": "code",
   "execution_count": 8,
   "id": "f20df05f",
   "metadata": {},
   "outputs": [],
   "source": [
    "# building an evaluation pipeline\n",
    "ds_test = ds_test.map(\n",
    "    normalize_img, num_parallel_calls=tf.data.AUTOTUNE\n",
    ")\n",
    "ds_test = ds_test.batch(128)\n",
    "ds_test = ds_test.cache()\n",
    "ds_test = ds_test.prefetch(tf.data.AUTOTUNE)"
   ]
  },
  {
   "cell_type": "markdown",
   "id": "1cc4df96",
   "metadata": {},
   "source": [
    "#### Train the model"
   ]
  },
  {
   "cell_type": "code",
   "execution_count": 11,
   "id": "c11e3b72",
   "metadata": {},
   "outputs": [
    {
     "name": "stdout",
     "output_type": "stream",
     "text": [
      "Epoch 1/10\n",
      "469/469 [==============================] - 5s 8ms/step - loss: 0.3538 - sparse_categorical_accuracy: 0.9016 - val_loss: 0.1928 - val_sparse_categorical_accuracy: 0.9447\n",
      "Epoch 2/10\n",
      "469/469 [==============================] - 4s 7ms/step - loss: 0.1637 - sparse_categorical_accuracy: 0.9534 - val_loss: 0.1318 - val_sparse_categorical_accuracy: 0.9631\n",
      "Epoch 3/10\n",
      "469/469 [==============================] - 4s 7ms/step - loss: 0.1160 - sparse_categorical_accuracy: 0.9668 - val_loss: 0.1091 - val_sparse_categorical_accuracy: 0.9675\n",
      "Epoch 4/10\n",
      "469/469 [==============================] - 4s 7ms/step - loss: 0.0888 - sparse_categorical_accuracy: 0.9745 - val_loss: 0.0911 - val_sparse_categorical_accuracy: 0.9721\n",
      "Epoch 5/10\n",
      "469/469 [==============================] - 4s 7ms/step - loss: 0.0719 - sparse_categorical_accuracy: 0.9789 - val_loss: 0.0906 - val_sparse_categorical_accuracy: 0.9734\n",
      "Epoch 6/10\n",
      "469/469 [==============================] - 4s 7ms/step - loss: 0.0588 - sparse_categorical_accuracy: 0.9830 - val_loss: 0.0777 - val_sparse_categorical_accuracy: 0.9768\n",
      "Epoch 7/10\n",
      "469/469 [==============================] - 4s 7ms/step - loss: 0.0499 - sparse_categorical_accuracy: 0.9852 - val_loss: 0.0802 - val_sparse_categorical_accuracy: 0.9757\n",
      "Epoch 8/10\n",
      "469/469 [==============================] - 4s 7ms/step - loss: 0.0420 - sparse_categorical_accuracy: 0.9878 - val_loss: 0.0764 - val_sparse_categorical_accuracy: 0.9771\n",
      "Epoch 9/10\n",
      "469/469 [==============================] - 4s 7ms/step - loss: 0.0349 - sparse_categorical_accuracy: 0.9905 - val_loss: 0.0715 - val_sparse_categorical_accuracy: 0.9787\n",
      "Epoch 10/10\n",
      "469/469 [==============================] - 4s 7ms/step - loss: 0.0301 - sparse_categorical_accuracy: 0.9918 - val_loss: 0.0785 - val_sparse_categorical_accuracy: 0.9757\n"
     ]
    },
    {
     "data": {
      "text/plain": [
       "<keras.callbacks.History at 0x22b334188b0>"
      ]
     },
     "execution_count": 11,
     "metadata": {},
     "output_type": "execute_result"
    }
   ],
   "source": [
    "model = Sequential([\n",
    "    layers.Flatten(input_shape=(28,28)),\n",
    "    layers.Dense(128, activation='relu'),\n",
    "    layers.Dense(10)\n",
    "])\n",
    "\n",
    "model.compile(\n",
    "    optimizer=tf.keras.optimizers.Adam(0.001),\n",
    "    loss=keras.losses.SparseCategoricalCrossentropy(from_logits=True),\n",
    "    metrics=[keras.metrics.SparseCategoricalAccuracy()],\n",
    ")\n",
    "\n",
    "model.fit(\n",
    "    ds_train,\n",
    "    epochs=10,\n",
    "    validation_data=ds_test\n",
    ")"
   ]
  },
  {
   "cell_type": "code",
   "execution_count": null,
   "id": "46d300a7",
   "metadata": {},
   "outputs": [],
   "source": []
  }
 ],
 "metadata": {
  "kernelspec": {
   "display_name": "Python 3 (ipykernel)",
   "language": "python",
   "name": "python3"
  },
  "language_info": {
   "codemirror_mode": {
    "name": "ipython",
    "version": 3
   },
   "file_extension": ".py",
   "mimetype": "text/x-python",
   "name": "python",
   "nbconvert_exporter": "python",
   "pygments_lexer": "ipython3",
   "version": "3.10.6"
  }
 },
 "nbformat": 4,
 "nbformat_minor": 5
}
